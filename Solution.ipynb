{
 "cells": [
  {
   "cell_type": "markdown",
   "metadata": {},
   "source": [
    "# MNIST Digits"
   ]
  },
  {
   "cell_type": "code",
   "execution_count": 1,
   "metadata": {},
   "outputs": [],
   "source": [
    "from sklearn.datasets import load_digits"
   ]
  },
  {
   "cell_type": "code",
   "execution_count": 2,
   "metadata": {},
   "outputs": [],
   "source": [
    "digits, target = load_digits(return_X_y=True)\n",
    "digits_square = digits.reshape(-1, 8, 8)"
   ]
  },
  {
   "cell_type": "code",
   "execution_count": 3,
   "metadata": {},
   "outputs": [],
   "source": [
    "import matplotlib.pyplot as plt"
   ]
  },
  {
   "cell_type": "code",
   "execution_count": 4,
   "metadata": {},
   "outputs": [],
   "source": [
    "import random\n",
    "import numpy as np"
   ]
  },
  {
   "cell_type": "code",
   "execution_count": 5,
   "metadata": {},
   "outputs": [
    {
     "name": "stdout",
     "output_type": "stream",
     "text": [
      "[[ 0.  0.  0. 13. 14.  0.  0.  0.]\n",
      " [ 0.  0.  0. 13. 16.  3.  0.  0.]\n",
      " [ 0.  0.  2. 16. 15.  3.  0.  0.]\n",
      " [ 0.  0.  4. 16. 14.  0.  0.  0.]\n",
      " [ 0.  0.  3. 16. 11.  0.  0.  0.]\n",
      " [ 0.  0.  8. 16. 10.  0.  0.  0.]\n",
      " [ 0.  0.  6. 16.  7.  0.  0.  0.]\n",
      " [ 0.  0.  1. 11.  9.  0.  0.  0.]]\n",
      "[1 1 0 1 0 1 0 1 0 0 0 1 1 0 1 1 1 0 1 0 0 0 1 1 1 0 1 0 1 1 0 1 1 1 0 0 1\n",
      " 0 0 0 1 0 0 0 1 0 0 0 0 0 0 0 0 1 1 1 0 1 1 0 1 0 0 0 1 0 0 0 1 1 1 1 0 1\n",
      " 1 1 1 0 0 1 1 0 1 1 0 0 1 1 1 1 0 1 1 1 0 1 1 1 1 0 1 0 0 0 0 0]\n"
     ]
    },
    {
     "data": {
      "text/plain": [
       "<matplotlib.image.AxesImage at 0x240f372b6c8>"
      ]
     },
     "execution_count": 5,
     "metadata": {},
     "output_type": "execute_result"
    },
    {
     "data": {
      "image/png": "[encoded data removed]",
      "text/plain": [
       "<Figure size 432x288 with 4 Axes>"
      ]
     },
     "metadata": {
      "needs_background": "light"
     },
     "output_type": "display_data"
    }
   ],
   "source": [
    "def generate_random_indices(percentage, class1, class2):\n",
    "    indices_of_class1 = np.nonzero(target == class1)[0]\n",
    "    indices_of_class2 = np.nonzero(target == class2)[0]\n",
    "\n",
    "    min_length = min(len(indices_of_class1), len(indices_of_class2)) - 1\n",
    "\n",
    "    indices_of_class = np.concatenate((indices_of_class1[:min_length], indices_of_class2[:min_length]))\n",
    "\n",
    "    return random.sample(indices_of_class.tolist(),k=int(len(indices_of_class)*percentage))\n",
    "\n",
    "def get_random_data(class1, class2):\n",
    "    indices = generate_random_indices(0.3, class1, class2)\n",
    "    return digits[indices,:], target[indices]\n",
    "\n",
    "digits_sample, target_sample = get_random_data(0,1)\n",
    "print(digits_sample.reshape((-1, 8, 8))[0])\n",
    "print(target_sample)\n",
    "plt.gray()\n",
    "plt.subplot(2,2,1)\n",
    "plt.imshow(digits_sample.reshape((-1, 8, 8))[0])\n",
    "plt.subplot(2,2,2)\n",
    "plt.imshow(digits_sample.reshape((-1, 8, 8))[1])\n",
    "plt.subplot(2,2,3)\n",
    "plt.imshow(digits_sample.reshape((-1, 8, 8))[2])\n",
    "plt.subplot(2,2,4)\n",
    "plt.imshow(digits_sample.reshape((-1, 8, 8))[3])"
   ]
  },
  {
   "cell_type": "code",
   "execution_count": 6,
   "metadata": {},
   "outputs": [],
   "source": [
    "def train():\n",
    "    indices = generate_random_indices(0.6, 0, 1)\n",
    "    digits_sample, target_sample = digits[indices,:], target[indices]\n",
    "    isum0 = np.ndarray((8,8))\n",
    "    isum1 = np.ndarray((8,8))\n",
    "    a = 0\n",
    "    b = 0\n",
    "    for x in range(len(target_sample)):\n",
    "       if(target_sample[x] == 0): \n",
    "          isum0 += digits_sample.reshape((-1, 8, 8))[x] \n",
    "          a+=1   \n",
    "       else:\n",
    "          isum1 += digits_sample.reshape((-1, 8, 8))[x]\n",
    "          b+=1\n",
    "\n",
    "    return isum0/a, isum1/b\n",
    "    \n"
   ]
  },
  {
   "cell_type": "code",
   "execution_count": 7,
   "metadata": {},
   "outputs": [],
   "source": [
    "def predict(digs): #take digits and for each one return a multidimensional array containing the predicted labels\n",
    "    a0, a1 = train()\n",
    "    a0.max\n",
    "    indices0 = np.nonzero(a0 < 3)\n",
    "    indices1 = np.nonzero(a1 < 3)\n",
    "    digs = digs.reshape((-1, 8, 8))\n",
    "    \n",
    "    a0[indices0] = 0\n",
    "    a1[indices1] = 0\n",
    "\n",
    "\n",
    "    response = np.zeros((len(digs)))\n",
    "    \n",
    "    for i in range(len(digs)):\n",
    "        digs[np.nonzero(digs <3)] = 0\n",
    "        dif0 = np.abs(a0 - digs[i])\n",
    "        dif1 = np.abs(a1 - digs[i])\n",
    "        y = dif0.sum()\n",
    "        w = dif1.sum() \n",
    "        response[i] = 0 if y<w else 1\n",
    "\n",
    "    plt.subplot(2,2,1)\n",
    "    plt.imshow(digs[0])\n",
    "    plt.subplot(2,2,2)\n",
    "    plt.imshow(digs[1])  \n",
    "    plt.subplot(2,2,3)\n",
    "    plt.imshow(digs[2])\n",
    "    plt.subplot(2,2,4)\n",
    "    plt.imshow(digs[3]) \n",
    "        \n",
    "    return response"
   ]
  },
  {
   "cell_type": "code",
   "execution_count": 8,
   "metadata": {},
   "outputs": [],
   "source": [
    "def accuracy(predictions, target): \n",
    "    print(predictions)\n",
    "    print(target)\n",
    "    return np.count_nonzero(target == predictions)/len(target)"
   ]
  },
  {
   "cell_type": "code",
   "execution_count": 9,
   "metadata": {},
   "outputs": [
    {
     "name": "stdout",
     "output_type": "stream",
     "text": [
      "[1. 0. 0. 0. 1. 0. 1. 0. 0. 0. 0. 1. 0. 1. 1. 0. 1. 1. 1. 1. 0. 1. 0. 1.\n",
      " 1. 1. 1. 1. 1. 1. 0. 1. 0. 0. 1. 1. 0. 0. 1. 0. 1. 0. 1. 1. 1. 1. 0. 0.\n",
      " 0. 0. 1. 0. 0. 1. 1. 1. 0. 1. 0. 0. 0. 1. 1. 1. 0. 1. 1. 0. 0. 1. 0. 0.\n",
      " 0. 1. 0. 1. 0. 0. 1. 1. 0. 1. 1. 1. 1. 1. 0. 1. 0. 1. 0. 0. 0. 0. 1. 0.\n",
      " 1. 0. 0. 0. 0. 0. 0. 1. 1. 0.]\n",
      "[1 0 0 0 1 0 1 0 0 0 0 1 0 1 1 0 1 1 1 1 0 1 0 1 1 1 1 1 1 1 0 1 0 0 1 1 0\n",
      " 0 1 0 1 0 1 1 1 1 0 0 0 0 1 0 0 1 1 1 0 1 0 0 0 1 1 1 0 1 1 0 0 1 0 0 0 1\n",
      " 0 1 0 0 1 1 0 1 1 1 1 1 0 1 0 1 0 0 0 0 1 0 1 0 0 0 0 0 0 1 1 0]\n"
     ]
    },
    {
     "data": {
      "text/plain": [
       "1.0"
      ]
     },
     "execution_count": 9,
     "metadata": {},
     "output_type": "execute_result"
    },
    {
     "data": {
      "image/png": "[encoded data removed]",
      "text/plain": [
       "<Figure size 432x288 with 4 Axes>"
      ]
     },
     "metadata": {
      "needs_background": "light"
     },
     "output_type": "display_data"
    }
   ],
   "source": [
    "a = get_random_data(0,1)\n",
    "accuracy(predict(a[0]), a[1])"
   ]
  },
  {
   "cell_type": "code",
   "execution_count": null,
   "metadata": {},
   "outputs": [],
   "source": []
  },
  {
   "cell_type": "code",
   "execution_count": null,
   "metadata": {},
   "outputs": [],
   "source": []
  },
  {
   "cell_type": "code",
   "execution_count": null,
   "metadata": {},
   "outputs": [],
   "source": []
  }
 ],
 "metadata": {
  "kernelspec": {
   "display_name": "Python 3",
   "language": "python",
   "name": "python3"
  },
  "language_info": {
   "codemirror_mode": {
    "name": "ipython",
    "version": 3
   },
   "file_extension": ".py",
   "mimetype": "text/x-python",
   "name": "python",
   "nbconvert_exporter": "python",
   "pygments_lexer": "ipython3",
   "version": "3.7.4"
  }
 },
 "nbformat": 4,
 "nbformat_minor": 2
}
