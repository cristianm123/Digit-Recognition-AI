{
 "cells": [
  {
   "cell_type": "markdown",
   "metadata": {},
   "source": [
    "# MNIST Digits"
   ]
  },
  {
   "cell_type": "code",
   "execution_count": 4,
   "metadata": {},
   "outputs": [],
   "source": [
    "from sklearn.datasets import load_digits"
   ]
  },
  {
   "cell_type": "code",
   "execution_count": 7,
   "metadata": {},
   "outputs": [],
   "source": [
    "digits, target = load_digits(return_X_y=True)\n",
    "digits_square = digits.reshape(-1, 8, 8)"
   ]
  },
  {
   "cell_type": "code",
   "execution_count": 10,
   "metadata": {},
   "outputs": [],
   "source": [
    "import matplotlib.pyplot as plt"
   ]
  },
  {
   "cell_type": "code",
   "execution_count": 8,
   "metadata": {},
   "outputs": [],
   "source": [
    "import random\n",
    "import numpy as np"
   ]
  },
  {
   "cell_type": "code",
   "execution_count": 74,
   "metadata": {},
   "outputs": [
    {
     "name": "stdout",
     "output_type": "stream",
     "text": [
      "[[ 0.  0.  4. ...  2.  0.  0.]\n",
      " [ 0.  0.  0. ...  8.  0.  0.]\n",
      " [ 0.  0.  5. ...  5.  0.  0.]\n",
      " ...\n",
      " [ 0.  4. 15. ...  0.  0.  0.]\n",
      " [ 0.  0.  5. ... 14.  3.  0.]\n",
      " [ 0.  0.  4. ... 11. 11.  0.]]\n",
      "[0 0 0 0 2 0 2 2 2 2 0 0 0 0 2 2 0 2 2 2 2 0 2 2 0 0 2 0 0 0 2 0 0 2 2 2 0\n",
      " 2 0 2 0 0 0 2 2 2 2 0 0 2 0 2 0 2 0 0 0 0 2 0 0 0 0 2 0 2 0 0 0 0 0 0 0 2\n",
      " 0 0 2 0 2 2 2 2 0 0 2 0 2 2 0 2 2 2 2 2 0 2 0 2 0 2 0 2 0 2 2 0 0 0 2 2 0\n",
      " 0 0 2 2 0 2 2 2 2 2 0 0 2 2 2 0 0 2 2 0 0 0 2 0 2 0 0 2 0 2 2 2 0 0 2 0 0\n",
      " 0 2 0 2 0 0 2 0 2 0 2 2 2 0 2 2 0 2 2 0 2 0 0 2 2 2 0 0 2 0 2 0 2 0 0 0 0\n",
      " 0 2 2 2 2 2 0 0 0 0 0 2 0 0 2 2 2 2 2 0 2 0 2 2 2 0 0 2 0 0 0 2 0 0 0 2 0\n",
      " 2 0 2 0 0 2 0 0 2 2 2 0 0 2 2 0 2 0 0 0 2 0 0 2 0 2 0 2 2 2 0 0 2 2 2 2 2\n",
      " 2 2 0 0 0 2 0 0 2 2 2 2 0 0 0 0 0 0 0 0 0 2 2 2 2 0 2 2 2 0 0 2 2 2 2 2 2\n",
      " 2 2 0 0 2 2 2 0 2 0 2 0 0 0 0 0 0 2 2 0 0 0 2 2 0 0 2 0 2 2 0 2 0 2 2 0 2\n",
      " 0 2 0 0 2 0 2 2 0 2 0 0 2 2 2 2 2 0 2]\n"
     ]
    },
    {
     "data": {
      "text/plain": [
       "<matplotlib.image.AxesImage at 0x1f31eee2048>"
      ]
     },
     "execution_count": 74,
     "metadata": {},
     "output_type": "execute_result"
    },
    {
     "data": {
      "image/png": "[encoded data removed]",
      "text/plain": [
       "<Figure size 432x288 with 4 Axes>"
      ]
     },
     "metadata": {
      "needs_background": "light"
     },
     "output_type": "display_data"
    }
   ],
   "source": [
    "def generate_random_indices(percentage, class1, class2):\n",
    "    indices_of_class1 = np.nonzero(target == class1)[0]\n",
    "    indices_of_class2 = np.nonzero(target == class2)[0]\n",
    "\n",
    "    min_length = min(len(indices_of_class1), len(indices_of_class2)) - 1\n",
    "\n",
    "    indices_of_class = np.concatenate((indices_of_class1[:min_length], indices_of_class2[:min_length]))\n",
    "\n",
    "    return random.sample(indices_of_class.tolist(),k=int(len(indices_of_class)*percentage))\n",
    "\n",
    "def get_random_data(class1, class2):\n",
    "    indices = generate_random_indices(0.3, class1, class2)\n",
    "    return digits[indices,:], target[indices]\n",
    "\n",
    "digits_sample, target_sample = get_random_data(2,0)\n",
    "print(digits_sample)\n",
    "print(target_sample)\n",
    "plt.gray()\n",
    "plt.subplot(2,2,1)\n",
    "plt.imshow(digits_sample.reshape((-1, 8, 8))[0])\n",
    "plt.subplot(2,2,2)\n",
    "plt.imshow(digits_sample.reshape((-1, 8, 8))[1])\n",
    "plt.subplot(2,2,3)\n",
    "plt.imshow(digits_sample.reshape((-1, 8, 8))[2])\n",
    "plt.subplot(2,2,4)\n",
    "plt.imshow(digits_sample.reshape((-1, 8, 8))[3])"
   ]
  },
  {
   "cell_type": "code",
   "execution_count": 75,
   "metadata": {},
   "outputs": [],
   "source": [
    "def train():\n",
    "    digits_sample, target_sample = get_random_data(2,0)   \n",
    "    isum0 = 0\n",
    "    isum2 = 0\n",
    "    for x in range(len(target_sample)):\n",
    "       if(target_sample[x] == 0): \n",
    "          isum0 += (np.sum(digits_sample.reshape((-1, 8, 8))[x])/64)    \n",
    "       else:\n",
    "          isum2 += (np.sum(digits_sample.reshape((-1, 8, 8))[x])/64)\n",
    "\n",
    "    a = np.count_nonzero(target_sample == 0)\n",
    "\n",
    "    return isum0/a, isum2/(len(target_sample)-a)\n",
    "    \n"
   ]
  },
  {
   "cell_type": "code",
   "execution_count": 76,
   "metadata": {},
   "outputs": [],
   "source": [
    "def predict(digs): #take digits and for each one return a multidimensional array containing the predicted labels\n",
    "    a0, a2 = train()\n",
    "    print (a0, a2)\n",
    "    response = np.zeros((len(digs)))\n",
    "    \n",
    "    for i in range(len(digs)):\n",
    "        z = np.sum(digs.reshape((-1, 8, 8))[i])/64\n",
    "        response[i] = 0 if(abs(z-a0)<abs(z-a2)) else 2 \n",
    "            \n",
    "    return response"
   ]
  },
  {
   "cell_type": "code",
   "execution_count": 77,
   "metadata": {},
   "outputs": [],
   "source": [
    "def accuracy(predictions):\n",
    "    print(predictions)\n",
    "    print(target_sample)    \n",
    "    return np.count_nonzero(target_sample == predictions)/len(target_sample)"
   ]
  },
  {
   "cell_type": "code",
   "execution_count": 78,
   "metadata": {},
   "outputs": [
    {
     "name": "stdout",
     "output_type": "stream",
     "text": [
      "4.943004261363637 4.9091796875\n",
      "[0. 2. 2. 2. 2. 0. 2. 2. 2. 0. 0. 2. 0. 2. 2. 0. 2. 0. 2. 0. 2. 0. 0. 2.\n",
      " 2. 0. 0. 2. 2. 0. 2. 0. 2. 2. 2. 0. 0. 0. 2. 0. 2. 2. 2. 0. 2. 2. 2. 0.\n",
      " 2. 2. 2. 2. 0. 2. 2. 0. 2. 2. 0. 2. 0. 2. 2. 0. 2. 0. 0. 2. 0. 0. 0. 0.\n",
      " 2. 0. 2. 0. 2. 2. 0. 0. 2. 0. 2. 0. 0. 0. 0. 0. 2. 2. 0. 0. 0. 2. 0. 0.\n",
      " 0. 2. 2. 2. 0. 2. 2. 0. 0. 0. 2. 2. 0. 0. 0. 0. 2. 2. 0. 0. 2. 0. 2. 0.\n",
      " 0. 0. 0. 0. 2. 0. 2. 0. 0. 0. 2. 0. 0. 0. 0. 2. 2. 2. 2. 0. 0. 2. 2. 2.\n",
      " 0. 0. 2. 0. 0. 0. 0. 2. 2. 0. 2. 0. 0. 0. 2. 2. 0. 2. 0. 0. 2. 0. 0. 0.\n",
      " 2. 2. 2. 0. 2. 0. 2. 2. 0. 2. 2. 2. 2. 2. 0. 2. 2. 2. 2. 0. 2. 2. 2. 0.\n",
      " 2. 0. 2. 0. 0. 2. 0. 0. 2. 2. 0. 2. 2. 2. 2. 2. 0. 2. 2. 0. 2. 2. 2. 0.\n",
      " 2. 0. 0. 2. 2. 2. 0. 0. 2. 2. 0. 2. 2. 2. 0. 0. 0. 2. 0. 2. 2. 0. 0. 0.\n",
      " 0. 0. 2. 0. 2. 0. 2. 0. 2. 0. 2. 2. 2. 0. 2. 2. 2. 0. 2. 0. 2. 0. 0. 2.\n",
      " 0. 0. 0. 0. 2. 0. 2. 2. 0. 0. 0. 0. 0. 2. 2. 0. 2. 2. 0. 2. 2. 0. 2. 0.\n",
      " 2. 0. 0. 2. 0. 0. 2. 2. 0. 0. 2. 0. 0. 2. 2. 2. 2. 2. 2. 2. 0. 2. 0. 0.\n",
      " 0. 0. 0. 0. 0. 2. 0. 2. 0. 2. 0. 0. 0. 0. 0. 0. 2. 2. 0. 0. 2. 2. 0. 2.\n",
      " 2. 0. 2. 0. 2. 2. 2. 2. 0. 2. 0. 2. 2. 2. 0. 2.]\n",
      "[0 0 0 0 2 0 2 2 2 2 0 0 0 0 2 2 0 2 2 2 2 0 2 2 0 0 2 0 0 0 2 0 0 2 2 2 0\n",
      " 2 0 2 0 0 0 2 2 2 2 0 0 2 0 2 0 2 0 0 0 0 2 0 0 0 0 2 0 2 0 0 0 0 0 0 0 2\n",
      " 0 0 2 0 2 2 2 2 0 0 2 0 2 2 0 2 2 2 2 2 0 2 0 2 0 2 0 2 0 2 2 0 0 0 2 2 0\n",
      " 0 0 2 2 0 2 2 2 2 2 0 0 2 2 2 0 0 2 2 0 0 0 2 0 2 0 0 2 0 2 2 2 0 0 2 0 0\n",
      " 0 2 0 2 0 0 2 0 2 0 2 2 2 0 2 2 0 2 2 0 2 0 0 2 2 2 0 0 2 0 2 0 2 0 0 0 0\n",
      " 0 2 2 2 2 2 0 0 0 0 0 2 0 0 2 2 2 2 2 0 2 0 2 2 2 0 0 2 0 0 0 2 0 0 0 2 0\n",
      " 2 0 2 0 0 2 0 0 2 2 2 0 0 2 2 0 2 0 0 0 2 0 0 2 0 2 0 2 2 2 0 0 2 2 2 2 2\n",
      " 2 2 0 0 0 2 0 0 2 2 2 2 0 0 0 0 0 0 0 0 0 2 2 2 2 0 2 2 2 0 0 2 2 2 2 2 2\n",
      " 2 2 0 0 2 2 2 0 2 0 2 0 0 0 0 0 0 2 2 0 0 0 2 2 0 0 2 0 2 2 0 2 0 2 2 0 2\n",
      " 0 2 0 0 2 0 2 2 0 2 0 0 2 2 2 2 2 0 2]\n"
     ]
    },
    {
     "data": {
      "text/plain": [
       "0.4914772727272727"
      ]
     },
     "execution_count": 78,
     "metadata": {},
     "output_type": "execute_result"
    }
   ],
   "source": [
    "accuracy(predict(digits_sample))"
   ]
  },
  {
   "cell_type": "code",
   "execution_count": null,
   "metadata": {},
   "outputs": [],
   "source": []
  }
 ],
 "metadata": {
  "kernelspec": {
   "display_name": "Python 3",
   "language": "python",
   "name": "python3"
  },
  "language_info": {
   "codemirror_mode": {
    "name": "ipython",
    "version": 3
   },
   "file_extension": ".py",
   "mimetype": "text/x-python",
   "name": "python",
   "nbconvert_exporter": "python",
   "pygments_lexer": "ipython3",
   "version": "3.7.4"
  }
 },
 "nbformat": 4,
 "nbformat_minor": 2
}
